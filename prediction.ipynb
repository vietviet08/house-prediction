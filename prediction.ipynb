{
 "cells": [
  {
   "cell_type": "code",
   "id": "initial_id",
   "metadata": {
    "collapsed": true,
    "ExecuteTime": {
     "end_time": "2025-06-11T07:33:07.119576Z",
     "start_time": "2025-06-11T07:33:06.913402Z"
    }
   },
   "source": [
    "import numpy as np\n",
    "import pandas as pd\n",
    "import matplotlib.pyplot as plt\n",
    "import seaborn as sns\n",
    "from sklearn.model_selection import train_test_split, cross_val_score\n",
    "from sklearn.preprocessing import StandardScaler, RobustScaler\n",
    "from sklearn.linear_model import LinearRegression, Ridge, Lasso\n",
    "from sklearn.ensemble import RandomForestRegressor\n",
    "from sklearn.metrics import mean_squared_error, mean_absolute_error, r2_score\n",
    "from scipy import stats\n",
    "import warnings\n",
    "warnings.filterwarnings('ignore')"
   ],
   "outputs": [],
   "execution_count": 1
  },
  {
   "metadata": {
    "ExecuteTime": {
     "end_time": "2025-06-11T07:33:31.154901Z",
     "start_time": "2025-06-11T07:33:31.091649Z"
    }
   },
   "cell_type": "code",
   "source": [
    "# Đọc dữ liệu\n",
    "df = pd.read_csv('vietnam_housing_dataset.csv')\n",
    "print(\"Original data shape:\", df.shape)\n",
    "print(\"\\nFirst 5 rows:\")\n",
    "df.head()\n"
   ],
   "id": "8fa0dca14ffca14c",
   "outputs": [
    {
     "name": "stdout",
     "output_type": "stream",
     "text": [
      "Original data shape: (30229, 12)\n",
      "\n",
      "First 5 rows:\n"
     ]
    },
    {
     "data": {
      "text/plain": [
       "                                             Address  Area  Frontage  \\\n",
       "0  Dự án The Empire - Vinhomes Ocean Park 2, Xã L...  84.0       NaN   \n",
       "1  Dự án The Crown - Vinhomes Ocean Park 3, Xã Ng...  60.0       NaN   \n",
       "2  Dự án The Crown - Vinhomes Ocean Park 3, Xã Ng...  90.0       6.0   \n",
       "3  Đường Nguyễn Văn Khối, Phường 11, Gò Vấp, Hồ C...  54.0       NaN   \n",
       "4   Đường Quang Trung, Phường 8, Gò Vấp, Hồ Chí Minh  92.0       NaN   \n",
       "\n",
       "   Access Road House direction Balcony direction  Floors  Bedrooms  Bathrooms  \\\n",
       "0          NaN             NaN               NaN     4.0       NaN        NaN   \n",
       "1          NaN             NaN               NaN     5.0       NaN        NaN   \n",
       "2         13.0      Đông - Bắc        Đông - Bắc     5.0       NaN        NaN   \n",
       "3          3.5       Tây - Nam         Tây - Nam     2.0       2.0        3.0   \n",
       "4          NaN      Đông - Nam        Đông - Nam     2.0       4.0        4.0   \n",
       "\n",
       "       Legal status Furniture state  Price  \n",
       "0  Have certificate             NaN   8.60  \n",
       "1               NaN             NaN   7.50  \n",
       "2     Sale contract             NaN   8.90  \n",
       "3  Have certificate            Full   5.35  \n",
       "4  Have certificate            Full   6.90  "
      ],
      "text/html": [
       "<div>\n",
       "<style scoped>\n",
       "    .dataframe tbody tr th:only-of-type {\n",
       "        vertical-align: middle;\n",
       "    }\n",
       "\n",
       "    .dataframe tbody tr th {\n",
       "        vertical-align: top;\n",
       "    }\n",
       "\n",
       "    .dataframe thead th {\n",
       "        text-align: right;\n",
       "    }\n",
       "</style>\n",
       "<table border=\"1\" class=\"dataframe\">\n",
       "  <thead>\n",
       "    <tr style=\"text-align: right;\">\n",
       "      <th></th>\n",
       "      <th>Address</th>\n",
       "      <th>Area</th>\n",
       "      <th>Frontage</th>\n",
       "      <th>Access Road</th>\n",
       "      <th>House direction</th>\n",
       "      <th>Balcony direction</th>\n",
       "      <th>Floors</th>\n",
       "      <th>Bedrooms</th>\n",
       "      <th>Bathrooms</th>\n",
       "      <th>Legal status</th>\n",
       "      <th>Furniture state</th>\n",
       "      <th>Price</th>\n",
       "    </tr>\n",
       "  </thead>\n",
       "  <tbody>\n",
       "    <tr>\n",
       "      <th>0</th>\n",
       "      <td>Dự án The Empire - Vinhomes Ocean Park 2, Xã L...</td>\n",
       "      <td>84.0</td>\n",
       "      <td>NaN</td>\n",
       "      <td>NaN</td>\n",
       "      <td>NaN</td>\n",
       "      <td>NaN</td>\n",
       "      <td>4.0</td>\n",
       "      <td>NaN</td>\n",
       "      <td>NaN</td>\n",
       "      <td>Have certificate</td>\n",
       "      <td>NaN</td>\n",
       "      <td>8.60</td>\n",
       "    </tr>\n",
       "    <tr>\n",
       "      <th>1</th>\n",
       "      <td>Dự án The Crown - Vinhomes Ocean Park 3, Xã Ng...</td>\n",
       "      <td>60.0</td>\n",
       "      <td>NaN</td>\n",
       "      <td>NaN</td>\n",
       "      <td>NaN</td>\n",
       "      <td>NaN</td>\n",
       "      <td>5.0</td>\n",
       "      <td>NaN</td>\n",
       "      <td>NaN</td>\n",
       "      <td>NaN</td>\n",
       "      <td>NaN</td>\n",
       "      <td>7.50</td>\n",
       "    </tr>\n",
       "    <tr>\n",
       "      <th>2</th>\n",
       "      <td>Dự án The Crown - Vinhomes Ocean Park 3, Xã Ng...</td>\n",
       "      <td>90.0</td>\n",
       "      <td>6.0</td>\n",
       "      <td>13.0</td>\n",
       "      <td>Đông - Bắc</td>\n",
       "      <td>Đông - Bắc</td>\n",
       "      <td>5.0</td>\n",
       "      <td>NaN</td>\n",
       "      <td>NaN</td>\n",
       "      <td>Sale contract</td>\n",
       "      <td>NaN</td>\n",
       "      <td>8.90</td>\n",
       "    </tr>\n",
       "    <tr>\n",
       "      <th>3</th>\n",
       "      <td>Đường Nguyễn Văn Khối, Phường 11, Gò Vấp, Hồ C...</td>\n",
       "      <td>54.0</td>\n",
       "      <td>NaN</td>\n",
       "      <td>3.5</td>\n",
       "      <td>Tây - Nam</td>\n",
       "      <td>Tây - Nam</td>\n",
       "      <td>2.0</td>\n",
       "      <td>2.0</td>\n",
       "      <td>3.0</td>\n",
       "      <td>Have certificate</td>\n",
       "      <td>Full</td>\n",
       "      <td>5.35</td>\n",
       "    </tr>\n",
       "    <tr>\n",
       "      <th>4</th>\n",
       "      <td>Đường Quang Trung, Phường 8, Gò Vấp, Hồ Chí Minh</td>\n",
       "      <td>92.0</td>\n",
       "      <td>NaN</td>\n",
       "      <td>NaN</td>\n",
       "      <td>Đông - Nam</td>\n",
       "      <td>Đông - Nam</td>\n",
       "      <td>2.0</td>\n",
       "      <td>4.0</td>\n",
       "      <td>4.0</td>\n",
       "      <td>Have certificate</td>\n",
       "      <td>Full</td>\n",
       "      <td>6.90</td>\n",
       "    </tr>\n",
       "  </tbody>\n",
       "</table>\n",
       "</div>"
      ]
     },
     "execution_count": 3,
     "metadata": {},
     "output_type": "execute_result"
    }
   ],
   "execution_count": 3
  },
  {
   "metadata": {
    "ExecuteTime": {
     "end_time": "2025-06-11T07:33:57.978513Z",
     "start_time": "2025-06-11T07:33:57.968594Z"
    }
   },
   "cell_type": "code",
   "source": [
    "# Kiểm tra missing values\n",
    "print(\"\\nMissing values:\")\n",
    "print(df.isnull().sum())"
   ],
   "id": "24c5adc31fdeeeee",
   "outputs": [
    {
     "name": "stdout",
     "output_type": "stream",
     "text": [
      "\n",
      "Missing values:\n",
      "Address                  0\n",
      "Area                     0\n",
      "Frontage             11564\n",
      "Access Road          13297\n",
      "House direction      21239\n",
      "Balcony direction    24983\n",
      "Floors                3603\n",
      "Bedrooms              5162\n",
      "Bathrooms             7074\n",
      "Legal status          4506\n",
      "Furniture state      14119\n",
      "Price                    0\n",
      "dtype: int64\n"
     ]
    }
   ],
   "execution_count": 4
  },
  {
   "metadata": {
    "ExecuteTime": {
     "end_time": "2025-06-11T07:34:10.972760Z",
     "start_time": "2025-06-11T07:34:10.964102Z"
    }
   },
   "cell_type": "code",
   "source": [
    "numeric_columns = df.select_dtypes(include=[np.number]).columns\n",
    "for col in numeric_columns:\n",
    "    df[col] = df[col].fillna(df[col].median())"
   ],
   "id": "ef02718da8eb4eed",
   "outputs": [],
   "execution_count": 5
  },
  {
   "metadata": {
    "ExecuteTime": {
     "end_time": "2025-06-11T07:34:46.524495Z",
     "start_time": "2025-06-11T07:34:46.505638Z"
    }
   },
   "cell_type": "code",
   "source": [
    "df.info()\n",
    "df"
   ],
   "id": "da86855fe0db97e7",
   "outputs": [
    {
     "name": "stdout",
     "output_type": "stream",
     "text": [
      "<class 'pandas.core.frame.DataFrame'>\n",
      "RangeIndex: 30229 entries, 0 to 30228\n",
      "Data columns (total 12 columns):\n",
      " #   Column             Non-Null Count  Dtype  \n",
      "---  ------             --------------  -----  \n",
      " 0   Address            30229 non-null  object \n",
      " 1   Area               30229 non-null  float64\n",
      " 2   Frontage           30229 non-null  float64\n",
      " 3   Access Road        30229 non-null  float64\n",
      " 4   House direction    8990 non-null   object \n",
      " 5   Balcony direction  5246 non-null   object \n",
      " 6   Floors             30229 non-null  float64\n",
      " 7   Bedrooms           30229 non-null  float64\n",
      " 8   Bathrooms          30229 non-null  float64\n",
      " 9   Legal status       25723 non-null  object \n",
      " 10  Furniture state    16110 non-null  object \n",
      " 11  Price              30229 non-null  float64\n",
      "dtypes: float64(7), object(5)\n",
      "memory usage: 2.8+ MB\n"
     ]
    },
    {
     "data": {
      "text/plain": [
       "                                                 Address  Area  Frontage  \\\n",
       "0      Dự án The Empire - Vinhomes Ocean Park 2, Xã L...  84.0       4.5   \n",
       "1      Dự án The Crown - Vinhomes Ocean Park 3, Xã Ng...  60.0       4.5   \n",
       "2      Dự án The Crown - Vinhomes Ocean Park 3, Xã Ng...  90.0       6.0   \n",
       "3      Đường Nguyễn Văn Khối, Phường 11, Gò Vấp, Hồ C...  54.0       4.5   \n",
       "4       Đường Quang Trung, Phường 8, Gò Vấp, Hồ Chí Minh  92.0       4.5   \n",
       "...                                                  ...   ...       ...   \n",
       "30224  Đường Lê Quang Định, Phường 1, Gò Vấp, Hồ Chí ...  67.0       4.1   \n",
       "30225  Đường Ngô Gia Tự, Phường Đức Giang, Long Biên,...  30.0       4.5   \n",
       "30226  Đường Gò Dưa, Phường Tam Bình, Thủ Đức, Hồ Chí...  69.4       4.0   \n",
       "30227  Đường Quang Trung, Phường 11, Gò Vấp, Hồ Chí Minh  96.0       4.5   \n",
       "30228  Đường Đại lộ Thăng Long, Xã An Khánh, Hoài Đức...  35.0       4.5   \n",
       "\n",
       "       Access Road House direction Balcony direction  Floors  Bedrooms  \\\n",
       "0              6.0             NaN               NaN     4.0       3.0   \n",
       "1              6.0             NaN               NaN     5.0       3.0   \n",
       "2             13.0      Đông - Bắc        Đông - Bắc     5.0       3.0   \n",
       "3              3.5       Tây - Nam         Tây - Nam     2.0       2.0   \n",
       "4              6.0      Đông - Nam        Đông - Nam     2.0       4.0   \n",
       "...            ...             ...               ...     ...       ...   \n",
       "30224         16.0             NaN               NaN     1.0       3.0   \n",
       "30225          6.0             NaN               NaN     5.0       3.0   \n",
       "30226         15.0      Đông - Bắc        Đông - Bắc     3.0       3.0   \n",
       "30227          8.0             NaN               NaN     4.0       3.0   \n",
       "30228          6.0      Đông - Nam        Đông - Nam     5.0       3.0   \n",
       "\n",
       "       Bathrooms      Legal status Furniture state  Price  \n",
       "0            3.0  Have certificate             NaN   8.60  \n",
       "1            3.0               NaN             NaN   7.50  \n",
       "2            3.0     Sale contract             NaN   8.90  \n",
       "3            3.0  Have certificate            Full   5.35  \n",
       "4            4.0  Have certificate            Full   6.90  \n",
       "...          ...               ...             ...    ...  \n",
       "30224        2.0  Have certificate             NaN   4.60  \n",
       "30225        3.0  Have certificate             NaN   4.70  \n",
       "30226        3.0  Have certificate           Basic   7.50  \n",
       "30227        3.0               NaN             NaN   9.50  \n",
       "30228        4.0  Have certificate           Basic   3.15  \n",
       "\n",
       "[30229 rows x 12 columns]"
      ],
      "text/html": [
       "<div>\n",
       "<style scoped>\n",
       "    .dataframe tbody tr th:only-of-type {\n",
       "        vertical-align: middle;\n",
       "    }\n",
       "\n",
       "    .dataframe tbody tr th {\n",
       "        vertical-align: top;\n",
       "    }\n",
       "\n",
       "    .dataframe thead th {\n",
       "        text-align: right;\n",
       "    }\n",
       "</style>\n",
       "<table border=\"1\" class=\"dataframe\">\n",
       "  <thead>\n",
       "    <tr style=\"text-align: right;\">\n",
       "      <th></th>\n",
       "      <th>Address</th>\n",
       "      <th>Area</th>\n",
       "      <th>Frontage</th>\n",
       "      <th>Access Road</th>\n",
       "      <th>House direction</th>\n",
       "      <th>Balcony direction</th>\n",
       "      <th>Floors</th>\n",
       "      <th>Bedrooms</th>\n",
       "      <th>Bathrooms</th>\n",
       "      <th>Legal status</th>\n",
       "      <th>Furniture state</th>\n",
       "      <th>Price</th>\n",
       "    </tr>\n",
       "  </thead>\n",
       "  <tbody>\n",
       "    <tr>\n",
       "      <th>0</th>\n",
       "      <td>Dự án The Empire - Vinhomes Ocean Park 2, Xã L...</td>\n",
       "      <td>84.0</td>\n",
       "      <td>4.5</td>\n",
       "      <td>6.0</td>\n",
       "      <td>NaN</td>\n",
       "      <td>NaN</td>\n",
       "      <td>4.0</td>\n",
       "      <td>3.0</td>\n",
       "      <td>3.0</td>\n",
       "      <td>Have certificate</td>\n",
       "      <td>NaN</td>\n",
       "      <td>8.60</td>\n",
       "    </tr>\n",
       "    <tr>\n",
       "      <th>1</th>\n",
       "      <td>Dự án The Crown - Vinhomes Ocean Park 3, Xã Ng...</td>\n",
       "      <td>60.0</td>\n",
       "      <td>4.5</td>\n",
       "      <td>6.0</td>\n",
       "      <td>NaN</td>\n",
       "      <td>NaN</td>\n",
       "      <td>5.0</td>\n",
       "      <td>3.0</td>\n",
       "      <td>3.0</td>\n",
       "      <td>NaN</td>\n",
       "      <td>NaN</td>\n",
       "      <td>7.50</td>\n",
       "    </tr>\n",
       "    <tr>\n",
       "      <th>2</th>\n",
       "      <td>Dự án The Crown - Vinhomes Ocean Park 3, Xã Ng...</td>\n",
       "      <td>90.0</td>\n",
       "      <td>6.0</td>\n",
       "      <td>13.0</td>\n",
       "      <td>Đông - Bắc</td>\n",
       "      <td>Đông - Bắc</td>\n",
       "      <td>5.0</td>\n",
       "      <td>3.0</td>\n",
       "      <td>3.0</td>\n",
       "      <td>Sale contract</td>\n",
       "      <td>NaN</td>\n",
       "      <td>8.90</td>\n",
       "    </tr>\n",
       "    <tr>\n",
       "      <th>3</th>\n",
       "      <td>Đường Nguyễn Văn Khối, Phường 11, Gò Vấp, Hồ C...</td>\n",
       "      <td>54.0</td>\n",
       "      <td>4.5</td>\n",
       "      <td>3.5</td>\n",
       "      <td>Tây - Nam</td>\n",
       "      <td>Tây - Nam</td>\n",
       "      <td>2.0</td>\n",
       "      <td>2.0</td>\n",
       "      <td>3.0</td>\n",
       "      <td>Have certificate</td>\n",
       "      <td>Full</td>\n",
       "      <td>5.35</td>\n",
       "    </tr>\n",
       "    <tr>\n",
       "      <th>4</th>\n",
       "      <td>Đường Quang Trung, Phường 8, Gò Vấp, Hồ Chí Minh</td>\n",
       "      <td>92.0</td>\n",
       "      <td>4.5</td>\n",
       "      <td>6.0</td>\n",
       "      <td>Đông - Nam</td>\n",
       "      <td>Đông - Nam</td>\n",
       "      <td>2.0</td>\n",
       "      <td>4.0</td>\n",
       "      <td>4.0</td>\n",
       "      <td>Have certificate</td>\n",
       "      <td>Full</td>\n",
       "      <td>6.90</td>\n",
       "    </tr>\n",
       "    <tr>\n",
       "      <th>...</th>\n",
       "      <td>...</td>\n",
       "      <td>...</td>\n",
       "      <td>...</td>\n",
       "      <td>...</td>\n",
       "      <td>...</td>\n",
       "      <td>...</td>\n",
       "      <td>...</td>\n",
       "      <td>...</td>\n",
       "      <td>...</td>\n",
       "      <td>...</td>\n",
       "      <td>...</td>\n",
       "      <td>...</td>\n",
       "    </tr>\n",
       "    <tr>\n",
       "      <th>30224</th>\n",
       "      <td>Đường Lê Quang Định, Phường 1, Gò Vấp, Hồ Chí ...</td>\n",
       "      <td>67.0</td>\n",
       "      <td>4.1</td>\n",
       "      <td>16.0</td>\n",
       "      <td>NaN</td>\n",
       "      <td>NaN</td>\n",
       "      <td>1.0</td>\n",
       "      <td>3.0</td>\n",
       "      <td>2.0</td>\n",
       "      <td>Have certificate</td>\n",
       "      <td>NaN</td>\n",
       "      <td>4.60</td>\n",
       "    </tr>\n",
       "    <tr>\n",
       "      <th>30225</th>\n",
       "      <td>Đường Ngô Gia Tự, Phường Đức Giang, Long Biên,...</td>\n",
       "      <td>30.0</td>\n",
       "      <td>4.5</td>\n",
       "      <td>6.0</td>\n",
       "      <td>NaN</td>\n",
       "      <td>NaN</td>\n",
       "      <td>5.0</td>\n",
       "      <td>3.0</td>\n",
       "      <td>3.0</td>\n",
       "      <td>Have certificate</td>\n",
       "      <td>NaN</td>\n",
       "      <td>4.70</td>\n",
       "    </tr>\n",
       "    <tr>\n",
       "      <th>30226</th>\n",
       "      <td>Đường Gò Dưa, Phường Tam Bình, Thủ Đức, Hồ Chí...</td>\n",
       "      <td>69.4</td>\n",
       "      <td>4.0</td>\n",
       "      <td>15.0</td>\n",
       "      <td>Đông - Bắc</td>\n",
       "      <td>Đông - Bắc</td>\n",
       "      <td>3.0</td>\n",
       "      <td>3.0</td>\n",
       "      <td>3.0</td>\n",
       "      <td>Have certificate</td>\n",
       "      <td>Basic</td>\n",
       "      <td>7.50</td>\n",
       "    </tr>\n",
       "    <tr>\n",
       "      <th>30227</th>\n",
       "      <td>Đường Quang Trung, Phường 11, Gò Vấp, Hồ Chí Minh</td>\n",
       "      <td>96.0</td>\n",
       "      <td>4.5</td>\n",
       "      <td>8.0</td>\n",
       "      <td>NaN</td>\n",
       "      <td>NaN</td>\n",
       "      <td>4.0</td>\n",
       "      <td>3.0</td>\n",
       "      <td>3.0</td>\n",
       "      <td>NaN</td>\n",
       "      <td>NaN</td>\n",
       "      <td>9.50</td>\n",
       "    </tr>\n",
       "    <tr>\n",
       "      <th>30228</th>\n",
       "      <td>Đường Đại lộ Thăng Long, Xã An Khánh, Hoài Đức...</td>\n",
       "      <td>35.0</td>\n",
       "      <td>4.5</td>\n",
       "      <td>6.0</td>\n",
       "      <td>Đông - Nam</td>\n",
       "      <td>Đông - Nam</td>\n",
       "      <td>5.0</td>\n",
       "      <td>3.0</td>\n",
       "      <td>4.0</td>\n",
       "      <td>Have certificate</td>\n",
       "      <td>Basic</td>\n",
       "      <td>3.15</td>\n",
       "    </tr>\n",
       "  </tbody>\n",
       "</table>\n",
       "<p>30229 rows × 12 columns</p>\n",
       "</div>"
      ]
     },
     "execution_count": 7,
     "metadata": {},
     "output_type": "execute_result"
    }
   ],
   "execution_count": 7
  },
  {
   "metadata": {
    "ExecuteTime": {
     "end_time": "2025-06-11T07:35:16.268111Z",
     "start_time": "2025-06-11T07:35:16.248283Z"
    }
   },
   "cell_type": "code",
   "source": [
    "# Xử lý missing values cho categorical columns\n",
    "categorical_columns = df.select_dtypes(include=[object]).columns\n",
    "for col in categorical_columns:\n",
    "    mode_values = df[col].mode()\n",
    "    if not mode_values.empty:\n",
    "        df[col] = df[col].fillna(mode_values[0])\n",
    "    else:\n",
    "        df[col] = df[col].fillna('Unknown')"
   ],
   "id": "f93e78648c1f9263",
   "outputs": [],
   "execution_count": 8
  },
  {
   "metadata": {
    "ExecuteTime": {
     "end_time": "2025-06-11T07:35:33.463929Z",
     "start_time": "2025-06-11T07:35:33.460907Z"
    }
   },
   "cell_type": "code",
   "source": "",
   "id": "f3d8612dbca5f93b",
   "outputs": [],
   "execution_count": null
  },
  {
   "metadata": {
    "ExecuteTime": {
     "end_time": "2025-06-11T07:35:39.791610Z",
     "start_time": "2025-06-11T07:35:39.781739Z"
    }
   },
   "cell_type": "code",
   "source": [
    "print(\"\\nAfter handling missing values:\")\n",
    "print(df.isnull().sum())"
   ],
   "id": "ce9f0e0bfe32b6e0",
   "outputs": [
    {
     "name": "stdout",
     "output_type": "stream",
     "text": [
      "\n",
      "After handling missing values:\n",
      "Address              0\n",
      "Area                 0\n",
      "Frontage             0\n",
      "Access Road          0\n",
      "House direction      0\n",
      "Balcony direction    0\n",
      "Floors               0\n",
      "Bedrooms             0\n",
      "Bathrooms            0\n",
      "Legal status         0\n",
      "Furniture state      0\n",
      "Price                0\n",
      "dtype: int64\n"
     ]
    }
   ],
   "execution_count": 10
  },
  {
   "metadata": {
    "ExecuteTime": {
     "end_time": "2025-06-11T07:36:30.952691Z",
     "start_time": "2025-06-11T07:36:30.942692Z"
    }
   },
   "cell_type": "code",
   "source": [
    "# Feature Engineering\n",
    "def create_features(df):\n",
    "    \"\"\"Tạo thêm features mới từ dữ liệu có sẵn\"\"\"\n",
    "    df_new = df.copy()\n",
    "\n",
    "    # Tạo feature về tỷ lệ diện tích (nếu có cột Area)\n",
    "    if 'Area' in df_new.columns and 'Bedrooms' in df_new.columns:\n",
    "        df_new['Area_per_Bedroom'] = df_new['Area'] / (df_new['Bedrooms'] + 1)\n",
    "\n",
    "    # Tạo feature về độ tuổi nhà (nếu có cột Year_Built)\n",
    "    if 'Year_Built' in df_new.columns:\n",
    "        df_new['House_Age'] = 2024 - df_new['Year_Built']\n",
    "\n",
    "    # Tạo feature về tổng số phòng (nếu có)\n",
    "    if 'Bedrooms' in df_new.columns and 'Bathrooms' in df_new.columns:\n",
    "        df_new['Total_Rooms'] = df_new['Bedrooms'] + df_new['Bathrooms']\n",
    "\n",
    "    return df_new\n",
    "\n",
    "df = create_features(df)"
   ],
   "id": "70baa9e93900f2aa",
   "outputs": [],
   "execution_count": 11
  },
  {
   "metadata": {
    "ExecuteTime": {
     "end_time": "2025-06-11T07:39:31.649335Z",
     "start_time": "2025-06-11T07:39:31.646873Z"
    }
   },
   "cell_type": "code",
   "source": "",
   "id": "fa3f6377ba6eefe0",
   "outputs": [],
   "execution_count": null
  },
  {
   "metadata": {
    "ExecuteTime": {
     "end_time": "2025-06-11T07:40:32.386114Z",
     "start_time": "2025-06-11T07:40:32.383256Z"
    }
   },
   "cell_type": "code",
   "source": [
    "# Xử lý outliers sử dụng IQR method\n",
    "def remove_outliers_iqr(df, column):\n",
    "    \"\"\"Loại bỏ outliers sử dụng phương pháp IQR\"\"\"\n",
    "    Q1 = df[column].quantile(0.25)\n",
    "    Q3 = df[column].quantile(0.75)\n",
    "    IQR = Q3 - Q1\n",
    "    lower_bound = Q1 - 1.5 * IQR\n",
    "    upper_bound = Q3 + 1.5 * IQR\n",
    "    return df[(df[column] >= lower_bound) & (df[column] <= upper_bound)]"
   ],
   "id": "8e491a2b87686eec",
   "outputs": [],
   "execution_count": 20
  },
  {
   "metadata": {
    "ExecuteTime": {
     "end_time": "2025-06-11T07:40:34.028227Z",
     "start_time": "2025-06-11T07:40:34.019716Z"
    }
   },
   "cell_type": "code",
   "source": [
    "# Xử lý outliers cho Price\n",
    "print(f\"Before outlier removal: {len(df)} rows\")\n",
    "df = remove_outliers_iqr(df, 'Price')\n",
    "print(f\"After outlier removal: {len(df)} rows\")"
   ],
   "id": "82d417764f86f45e",
   "outputs": [
    {
     "name": "stdout",
     "output_type": "stream",
     "text": [
      "Before outlier removal: 30229 rows\n",
      "After outlier removal: 30229 rows\n"
     ]
    }
   ],
   "execution_count": 21
  },
  {
   "metadata": {
    "ExecuteTime": {
     "end_time": "2025-06-11T07:43:56.258161Z",
     "start_time": "2025-06-11T07:43:56.034515Z"
    }
   },
   "cell_type": "code",
   "source": [
    "# Visualize price distribution after outlier removal\n",
    "plt.figure(figsize=(12, 5))\n",
    "plt.subplot(1, 2, 1)\n",
    "sns.histplot(df['Price'], kde=True)\n",
    "plt.title('Price Distribution (After Outlier Removal)')\n",
    "plt.xlabel('Price')\n",
    "\n",
    "plt.subplot(1, 2, 2)\n",
    "sns.boxplot(y=df['Price'])\n",
    "plt.title('Price Boxplot')\n",
    "plt.show()\n"
   ],
   "id": "360ae80fe691455a",
   "outputs": [
    {
     "data": {
      "text/plain": [
       "<Figure size 1200x500 with 2 Axes>"
      ],
      "image/png": "[encoded data removed]"
     },
     "metadata": {},
     "output_type": "display_data"
    }
   ],
   "execution_count": 34
  },
  {
   "metadata": {
    "ExecuteTime": {
     "end_time": "2025-06-11T07:44:36.565374Z",
     "start_time": "2025-06-11T07:44:36.331059Z"
    }
   },
   "cell_type": "code",
   "source": [
    "# Correlation analysis\n",
    "numeric_df = df.select_dtypes(include=[np.number])\n",
    "plt.figure(figsize=(12, 8))\n",
    "correlation_matrix = numeric_df.corr()\n",
    "sns.heatmap(correlation_matrix, annot=True, cmap='coolwarm', fmt='.2f', center=0)\n",
    "plt.title('Correlation Heatmap')\n",
    "plt.tight_layout()\n",
    "plt.show()"
   ],
   "id": "3fd4231dff0fe1cc",
   "outputs": [
    {
     "data": {
      "text/plain": [
       "<Figure size 1200x800 with 2 Axes>"
      ],
      "image/png": "[encoded data removed]"
     },
     "metadata": {},
     "output_type": "display_data"
    }
   ],
   "execution_count": 35
  },
  {
   "metadata": {
    "ExecuteTime": {
     "end_time": "2025-06-11T07:49:02.110260Z",
     "start_time": "2025-06-11T07:49:02.104296Z"
    }
   },
   "cell_type": "code",
   "source": [
    "# Chuẩn bị dữ liệu cho training\n",
    "# Loại bỏ columns không cần thiết\n",
    "columns_to_drop = ['Address']  # Thêm các cột khác nếu cần\n",
    "if 'Address' in df.columns:\n",
    "    X = df.drop(columns=['Price'] + columns_to_drop)\n",
    "else:\n",
    "    X = df.drop(columns=['Price'])"
   ],
   "id": "3e138fb735f6803f",
   "outputs": [],
   "execution_count": 36
  },
  {
   "metadata": {
    "ExecuteTime": {
     "end_time": "2025-06-11T07:49:12.578042Z",
     "start_time": "2025-06-11T07:49:12.561194Z"
    }
   },
   "cell_type": "code",
   "source": [
    "# Xử lý categorical variables\n",
    "X = pd.get_dummies(X, drop_first=True)\n",
    "y = df['Price']\n",
    "\n",
    "print(f\"Features shape: {X.shape}\")\n",
    "print(f\"Target shape: {y.shape}\")"
   ],
   "id": "6977f54f337d8111",
   "outputs": [
    {
     "name": "stdout",
     "output_type": "stream",
     "text": [
      "Features shape: (30229, 24)\n",
      "Target shape: (30229,)\n"
     ]
    }
   ],
   "execution_count": 37
  },
  {
   "metadata": {
    "ExecuteTime": {
     "end_time": "2025-06-11T07:49:26.826606Z",
     "start_time": "2025-06-11T07:49:26.816575Z"
    }
   },
   "cell_type": "code",
   "source": [
    "# Split data\n",
    "X_train, X_test, y_train, y_test = train_test_split(X, y, test_size=0.2, random_state=42, stratify=None)"
   ],
   "id": "e33451bac80c4be4",
   "outputs": [],
   "execution_count": 38
  },
  {
   "metadata": {
    "ExecuteTime": {
     "end_time": "2025-06-11T07:49:36.860981Z",
     "start_time": "2025-06-11T07:49:36.826684Z"
    }
   },
   "cell_type": "code",
   "source": [
    "# Feature scaling\n",
    "scaler = RobustScaler()  # RobustScaler tốt hơn cho dữ liệu có outliers\n",
    "X_train_scaled = scaler.fit_transform(X_train)\n",
    "X_test_scaled = scaler.transform(X_test)"
   ],
   "id": "2b4c22ac16a300f5",
   "outputs": [],
   "execution_count": 39
  },
  {
   "metadata": {
    "ExecuteTime": {
     "end_time": "2025-06-11T07:51:02.420243Z",
     "start_time": "2025-06-11T07:50:24.186938Z"
    }
   },
   "cell_type": "code",
   "source": [
    "# Multiple models comparison\n",
    "models = {\n",
    "    'Linear Regression': LinearRegression(),\n",
    "    'Ridge Regression': Ridge(alpha=1.0),\n",
    "    'Lasso Regression': Lasso(alpha=1.0),\n",
    "    'Random Forest': RandomForestRegressor(n_estimators=100, random_state=42)\n",
    "}\n",
    "\n",
    "results = {}\n",
    "\n",
    "for name, model in models.items():\n",
    "    if name == 'Random Forest':\n",
    "        # Random Forest không cần scaling\n",
    "        model.fit(X_train, y_train)\n",
    "        y_pred = model.predict(X_test)\n",
    "    else:\n",
    "        # Linear models cần scaling\n",
    "        model.fit(X_train_scaled, y_train)\n",
    "        y_pred = model.predict(X_test_scaled)\n",
    "\n",
    "    # Tính metrics\n",
    "    mse = mean_squared_error(y_test, y_pred)\n",
    "    rmse = np.sqrt(mse)\n",
    "    mae = mean_absolute_error(y_test, y_pred)\n",
    "    r2 = r2_score(y_test, y_pred)\n",
    "\n",
    "    # Cross-validation\n",
    "    if name == 'Random Forest':\n",
    "        cv_scores = cross_val_score(model, X_train, y_train, cv=5, scoring='r2')\n",
    "    else:\n",
    "        cv_scores = cross_val_score(model, X_train_scaled, y_train, cv=5, scoring='r2')\n",
    "\n",
    "    results[name] = {\n",
    "        'MSE': mse,\n",
    "        'RMSE': rmse,\n",
    "        'MAE': mae,\n",
    "        'R2': r2,\n",
    "        'CV_R2_mean': cv_scores.mean(),\n",
    "        'CV_R2_std': cv_scores.std()\n",
    "    }"
   ],
   "id": "3f9e9831f4ddb3d3",
   "outputs": [],
   "execution_count": 40
  },
  {
   "metadata": {
    "ExecuteTime": {
     "end_time": "2025-06-11T07:51:42.599278Z",
     "start_time": "2025-06-11T07:51:42.587368Z"
    }
   },
   "cell_type": "code",
   "source": [
    "# Hiển thị kết quả\n",
    "print(\"\\n\" + \"=\"*80)\n",
    "print(\"MODEL COMPARISON RESULTS\")\n",
    "print(\"=\"*80)\n",
    "\n",
    "results_df = pd.DataFrame(results).T\n",
    "print(results_df.round(4))"
   ],
   "id": "594ed78c8c735642",
   "outputs": [
    {
     "name": "stdout",
     "output_type": "stream",
     "text": [
      "\n",
      "================================================================================\n",
      "MODEL COMPARISON RESULTS\n",
      "================================================================================\n",
      "                      MSE    RMSE     MAE      R2  CV_R2_mean  CV_R2_std\n",
      "Linear Regression  3.8954  1.9737  1.6117  0.2011      0.2068     0.0058\n",
      "Ridge Regression   3.8953  1.9737  1.6117  0.2011      0.2068     0.0058\n",
      "Lasso Regression   4.8454  2.2012  1.8379  0.0063      0.0078     0.0019\n",
      "Random Forest      3.5372  1.8808  1.4616  0.2746      0.2908     0.0111\n"
     ]
    }
   ],
   "execution_count": 41
  },
  {
   "metadata": {
    "ExecuteTime": {
     "end_time": "2025-06-11T07:52:15.990829Z",
     "start_time": "2025-06-11T07:52:15.981646Z"
    }
   },
   "cell_type": "code",
   "source": [
    "# Tìm model tốt nhất\n",
    "best_model_name = results_df['R2'].idxmax()\n",
    "print(f\"\\nBest Model: {best_model_name}\")\n",
    "print(f\"R2 Score: {results_df.loc[best_model_name, 'R2']:.4f}\")"
   ],
   "id": "21acb93faaaf7e42",
   "outputs": [
    {
     "name": "stdout",
     "output_type": "stream",
     "text": [
      "\n",
      "Best Model: Random Forest\n",
      "R2 Score: 0.2746\n"
     ]
    }
   ],
   "execution_count": 42
  },
  {
   "metadata": {},
   "cell_type": "code",
   "outputs": [],
   "execution_count": null,
   "source": "",
   "id": "2d1cd39d8d629d3b"
  }
 ],
 "metadata": {
  "kernelspec": {
   "display_name": "Python 3",
   "language": "python",
   "name": "python3"
  },
  "language_info": {
   "codemirror_mode": {
    "name": "ipython",
    "version": 2
   },
   "file_extension": ".py",
   "mimetype": "text/x-python",
   "name": "python",
   "nbconvert_exporter": "python",
   "pygments_lexer": "ipython2",
   "version": "2.7.6"
  }
 },
 "nbformat": 4,
 "nbformat_minor": 5
}
